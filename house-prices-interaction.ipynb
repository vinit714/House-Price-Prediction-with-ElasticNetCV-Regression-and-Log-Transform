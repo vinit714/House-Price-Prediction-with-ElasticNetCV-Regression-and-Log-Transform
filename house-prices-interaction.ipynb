{
 "cells": [
  {
   "cell_type": "markdown",
   "id": "1624adba",
   "metadata": {
    "papermill": {
     "duration": 0.007289,
     "end_time": "2024-03-03T02:01:12.592245",
     "exception": false,
     "start_time": "2024-03-03T02:01:12.584956",
     "status": "completed"
    },
    "tags": []
   },
   "source": [
    "# House Prices 5: Brute Force Interactions"
   ]
  },
  {
   "cell_type": "code",
   "execution_count": 1,
   "id": "4576bd30",
   "metadata": {
    "execution": {
     "iopub.execute_input": "2024-03-03T02:01:12.607621Z",
     "iopub.status.busy": "2024-03-03T02:01:12.607223Z",
     "iopub.status.idle": "2024-03-03T02:01:15.696061Z",
     "shell.execute_reply": "2024-03-03T02:01:15.694839Z"
    },
    "papermill": {
     "duration": 3.099543,
     "end_time": "2024-03-03T02:01:15.698764",
     "exception": false,
     "start_time": "2024-03-03T02:01:12.599221",
     "status": "completed"
    },
    "tags": []
   },
   "outputs": [],
   "source": [
    "from house_price_utils import *\n",
    "\n",
    "setup_notebook()"
   ]
  },
  {
   "cell_type": "markdown",
   "id": "f332b7c4",
   "metadata": {
    "papermill": {
     "duration": 0.006245,
     "end_time": "2024-03-03T02:01:15.711861",
     "exception": false,
     "start_time": "2024-03-03T02:01:15.705616",
     "status": "completed"
    },
    "tags": []
   },
   "source": [
    "# Data"
   ]
  },
  {
   "cell_type": "code",
   "execution_count": 2,
   "id": "fdddb5f7",
   "metadata": {
    "execution": {
     "iopub.execute_input": "2024-03-03T02:01:15.727630Z",
     "iopub.status.busy": "2024-03-03T02:01:15.726282Z",
     "iopub.status.idle": "2024-03-03T02:01:15.847223Z",
     "shell.execute_reply": "2024-03-03T02:01:15.846050Z"
    },
    "papermill": {
     "duration": 0.131614,
     "end_time": "2024-03-03T02:01:15.850027",
     "exception": false,
     "start_time": "2024-03-03T02:01:15.718413",
     "status": "completed"
    },
    "tags": []
   },
   "outputs": [],
   "source": [
    "data, data_test = load_data()\n",
    "data = data[sorted(data)]\n",
    "X_raw = data.drop(columns=[\"SalePrice\"])\n",
    "y = data.SalePrice"
   ]
  },
  {
   "cell_type": "code",
   "execution_count": 3,
   "id": "dd40c22c",
   "metadata": {
    "execution": {
     "iopub.execute_input": "2024-03-03T02:01:15.865711Z",
     "iopub.status.busy": "2024-03-03T02:01:15.865088Z",
     "iopub.status.idle": "2024-03-03T02:01:15.889068Z",
     "shell.execute_reply": "2024-03-03T02:01:15.887739Z"
    },
    "papermill": {
     "duration": 0.035268,
     "end_time": "2024-03-03T02:01:15.892128",
     "exception": false,
     "start_time": "2024-03-03T02:01:15.856860",
     "status": "completed"
    },
    "tags": []
   },
   "outputs": [],
   "source": [
    "from sklearn.compose import TransformedTargetRegressor, make_column_transformer\n",
    "from sklearn import linear_model\n",
    "from sklearn.impute import SimpleImputer\n",
    "from sklearn.model_selection import train_test_split\n",
    "from sklearn.pipeline import make_pipeline\n",
    "from sklearn.preprocessing import (\n",
    "    StandardScaler,\n",
    "    OneHotEncoder,\n",
    "    OrdinalEncoder,\n",
    "    PolynomialFeatures,\n",
    ")"
   ]
  },
  {
   "cell_type": "markdown",
   "id": "62aa0479",
   "metadata": {
    "papermill": {
     "duration": 0.007379,
     "end_time": "2024-03-03T02:01:15.906552",
     "exception": false,
     "start_time": "2024-03-03T02:01:15.899173",
     "status": "completed"
    },
    "tags": []
   },
   "source": [
    "# Feature Grouping"
   ]
  },
  {
   "cell_type": "code",
   "execution_count": 4,
   "id": "f1197c43",
   "metadata": {
    "execution": {
     "iopub.execute_input": "2024-03-03T02:01:15.922576Z",
     "iopub.status.busy": "2024-03-03T02:01:15.922171Z",
     "iopub.status.idle": "2024-03-03T02:01:16.019745Z",
     "shell.execute_reply": "2024-03-03T02:01:16.018380Z"
    },
    "papermill": {
     "duration": 0.109241,
     "end_time": "2024-03-03T02:01:16.022774",
     "exception": false,
     "start_time": "2024-03-03T02:01:15.913533",
     "status": "completed"
    },
    "tags": []
   },
   "outputs": [],
   "source": [
    "features = group_features(X_raw)"
   ]
  },
  {
   "cell_type": "markdown",
   "id": "faee460c",
   "metadata": {
    "papermill": {
     "duration": 0.006439,
     "end_time": "2024-03-03T02:01:16.036079",
     "exception": false,
     "start_time": "2024-03-03T02:01:16.029640",
     "status": "completed"
    },
    "tags": []
   },
   "source": [
    "# CV Split"
   ]
  },
  {
   "cell_type": "code",
   "execution_count": 5,
   "id": "594a346f",
   "metadata": {
    "execution": {
     "iopub.execute_input": "2024-03-03T02:01:16.052590Z",
     "iopub.status.busy": "2024-03-03T02:01:16.052154Z",
     "iopub.status.idle": "2024-03-03T02:01:16.066847Z",
     "shell.execute_reply": "2024-03-03T02:01:16.065555Z"
    },
    "papermill": {
     "duration": 0.026121,
     "end_time": "2024-03-03T02:01:16.069510",
     "exception": false,
     "start_time": "2024-03-03T02:01:16.043389",
     "status": "completed"
    },
    "tags": []
   },
   "outputs": [],
   "source": [
    "X_train, X_val, y_train, y_val = train_test_split(\n",
    "    X_raw,\n",
    "    y,\n",
    "    test_size=0.2,\n",
    "    random_state=42,\n",
    "    shuffle=True,\n",
    ")"
   ]
  },
  {
   "cell_type": "markdown",
   "id": "f96822cc",
   "metadata": {
    "papermill": {
     "duration": 0.007593,
     "end_time": "2024-03-03T02:01:16.084228",
     "exception": false,
     "start_time": "2024-03-03T02:01:16.076635",
     "status": "completed"
    },
    "tags": []
   },
   "source": [
    "# Preprocessor"
   ]
  },
  {
   "cell_type": "code",
   "execution_count": 6,
   "id": "c09d0240",
   "metadata": {
    "execution": {
     "iopub.execute_input": "2024-03-03T02:01:16.101803Z",
     "iopub.status.busy": "2024-03-03T02:01:16.101039Z",
     "iopub.status.idle": "2024-03-03T02:01:16.108916Z",
     "shell.execute_reply": "2024-03-03T02:01:16.107573Z"
    },
    "papermill": {
     "duration": 0.019609,
     "end_time": "2024-03-03T02:01:16.111489",
     "exception": false,
     "start_time": "2024-03-03T02:01:16.091880",
     "status": "completed"
    },
    "tags": []
   },
   "outputs": [],
   "source": [
    "continuous_transformer = make_pipeline(SimpleImputer(strategy=\"mean\"), StandardScaler())\n",
    "nominal_transformer = make_pipeline(\n",
    "    SimpleImputer(strategy=\"most_frequent\"),\n",
    "    OneHotEncoder(handle_unknown=\"ignore\"),\n",
    ")\n",
    "ordinal_transformer = make_pipeline(\n",
    "    SimpleImputer(strategy=\"most_frequent\"),\n",
    "    OrdinalEncoder(handle_unknown=\"use_encoded_value\", unknown_value=-1),\n",
    ")\n",
    "preprocessor = make_column_transformer(\n",
    "    (continuous_transformer, features[\"continuous\"]),\n",
    "    (nominal_transformer, features[\"nominal\"]),\n",
    "    (ordinal_transformer, features[\"ordinal\"]),\n",
    ")"
   ]
  },
  {
   "cell_type": "markdown",
   "id": "d6e18443",
   "metadata": {
    "papermill": {
     "duration": 0.00666,
     "end_time": "2024-03-03T02:01:16.125272",
     "exception": false,
     "start_time": "2024-03-03T02:01:16.118612",
     "status": "completed"
    },
    "tags": []
   },
   "source": [
    "# Model"
   ]
  },
  {
   "cell_type": "code",
   "execution_count": 7,
   "id": "704d2775",
   "metadata": {
    "execution": {
     "iopub.execute_input": "2024-03-03T02:01:16.142882Z",
     "iopub.status.busy": "2024-03-03T02:01:16.141715Z",
     "iopub.status.idle": "2024-03-03T02:01:16.149577Z",
     "shell.execute_reply": "2024-03-03T02:01:16.147946Z"
    },
    "papermill": {
     "duration": 0.019102,
     "end_time": "2024-03-03T02:01:16.152151",
     "exception": false,
     "start_time": "2024-03-03T02:01:16.133049",
     "status": "completed"
    },
    "tags": []
   },
   "outputs": [],
   "source": [
    "regressor = linear_model.ElasticNetCV(n_jobs=4, random_state=42, max_iter=2000)\n",
    "model = make_pipeline(\n",
    "    preprocessor,\n",
    "    PolynomialFeatures(degree=2, include_bias=False, interaction_only=True),\n",
    "    TransformedTargetRegressor(regressor, func=np.log, inverse_func=np.exp),\n",
    ")"
   ]
  },
  {
   "cell_type": "markdown",
   "id": "a8e943f9",
   "metadata": {
    "papermill": {
     "duration": 0.007957,
     "end_time": "2024-03-03T02:01:16.167454",
     "exception": false,
     "start_time": "2024-03-03T02:01:16.159497",
     "status": "completed"
    },
    "tags": []
   },
   "source": [
    "# Evaluation"
   ]
  },
  {
   "cell_type": "code",
   "execution_count": 8,
   "id": "5d0a6e3d",
   "metadata": {
    "execution": {
     "iopub.execute_input": "2024-03-03T02:01:16.183081Z",
     "iopub.status.busy": "2024-03-03T02:01:16.182686Z",
     "iopub.status.idle": "2024-03-03T02:16:51.338060Z",
     "shell.execute_reply": "2024-03-03T02:16:51.336747Z"
    },
    "papermill": {
     "duration": 935.174853,
     "end_time": "2024-03-03T02:16:51.349270",
     "exception": false,
     "start_time": "2024-03-03T02:01:16.174417",
     "status": "completed"
    },
    "tags": []
   },
   "outputs": [
    {
     "data": {
      "text/html": [
       "<style>#sk-container-id-1 {color: black;background-color: white;}#sk-container-id-1 pre{padding: 0;}#sk-container-id-1 div.sk-toggleable {background-color: white;}#sk-container-id-1 label.sk-toggleable__label {cursor: pointer;display: block;width: 100%;margin-bottom: 0;padding: 0.3em;box-sizing: border-box;text-align: center;}#sk-container-id-1 label.sk-toggleable__label-arrow:before {content: \"▸\";float: left;margin-right: 0.25em;color: #696969;}#sk-container-id-1 label.sk-toggleable__label-arrow:hover:before {color: black;}#sk-container-id-1 div.sk-estimator:hover label.sk-toggleable__label-arrow:before {color: black;}#sk-container-id-1 div.sk-toggleable__content {max-height: 0;max-width: 0;overflow: hidden;text-align: left;background-color: #f0f8ff;}#sk-container-id-1 div.sk-toggleable__content pre {margin: 0.2em;color: black;border-radius: 0.25em;background-color: #f0f8ff;}#sk-container-id-1 input.sk-toggleable__control:checked~div.sk-toggleable__content {max-height: 200px;max-width: 100%;overflow: auto;}#sk-container-id-1 input.sk-toggleable__control:checked~label.sk-toggleable__label-arrow:before {content: \"▾\";}#sk-container-id-1 div.sk-estimator input.sk-toggleable__control:checked~label.sk-toggleable__label {background-color: #d4ebff;}#sk-container-id-1 div.sk-label input.sk-toggleable__control:checked~label.sk-toggleable__label {background-color: #d4ebff;}#sk-container-id-1 input.sk-hidden--visually {border: 0;clip: rect(1px 1px 1px 1px);clip: rect(1px, 1px, 1px, 1px);height: 1px;margin: -1px;overflow: hidden;padding: 0;position: absolute;width: 1px;}#sk-container-id-1 div.sk-estimator {font-family: monospace;background-color: #f0f8ff;border: 1px dotted black;border-radius: 0.25em;box-sizing: border-box;margin-bottom: 0.5em;}#sk-container-id-1 div.sk-estimator:hover {background-color: #d4ebff;}#sk-container-id-1 div.sk-parallel-item::after {content: \"\";width: 100%;border-bottom: 1px solid gray;flex-grow: 1;}#sk-container-id-1 div.sk-label:hover label.sk-toggleable__label {background-color: #d4ebff;}#sk-container-id-1 div.sk-serial::before {content: \"\";position: absolute;border-left: 1px solid gray;box-sizing: border-box;top: 0;bottom: 0;left: 50%;z-index: 0;}#sk-container-id-1 div.sk-serial {display: flex;flex-direction: column;align-items: center;background-color: white;padding-right: 0.2em;padding-left: 0.2em;position: relative;}#sk-container-id-1 div.sk-item {position: relative;z-index: 1;}#sk-container-id-1 div.sk-parallel {display: flex;align-items: stretch;justify-content: center;background-color: white;position: relative;}#sk-container-id-1 div.sk-item::before, #sk-container-id-1 div.sk-parallel-item::before {content: \"\";position: absolute;border-left: 1px solid gray;box-sizing: border-box;top: 0;bottom: 0;left: 50%;z-index: -1;}#sk-container-id-1 div.sk-parallel-item {display: flex;flex-direction: column;z-index: 1;position: relative;background-color: white;}#sk-container-id-1 div.sk-parallel-item:first-child::after {align-self: flex-end;width: 50%;}#sk-container-id-1 div.sk-parallel-item:last-child::after {align-self: flex-start;width: 50%;}#sk-container-id-1 div.sk-parallel-item:only-child::after {width: 0;}#sk-container-id-1 div.sk-dashed-wrapped {border: 1px dashed gray;margin: 0 0.4em 0.5em 0.4em;box-sizing: border-box;padding-bottom: 0.4em;background-color: white;}#sk-container-id-1 div.sk-label label {font-family: monospace;font-weight: bold;display: inline-block;line-height: 1.2em;}#sk-container-id-1 div.sk-label-container {text-align: center;}#sk-container-id-1 div.sk-container {/* jupyter's `normalize.less` sets `[hidden] { display: none; }` but bootstrap.min.css set `[hidden] { display: none !important; }` so we also need the `!important` here to be able to override the default hidden behavior on the sphinx rendered scikit-learn.org. See: https://github.com/scikit-learn/scikit-learn/issues/21755 */display: inline-block !important;position: relative;}#sk-container-id-1 div.sk-text-repr-fallback {display: none;}</style><div id=\"sk-container-id-1\" class=\"sk-top-container\"><div class=\"sk-text-repr-fallback\"><pre>Pipeline(steps=[(&#x27;columntransformer&#x27;,\n",
       "                 ColumnTransformer(transformers=[(&#x27;pipeline-1&#x27;,\n",
       "                                                  Pipeline(steps=[(&#x27;simpleimputer&#x27;,\n",
       "                                                                   SimpleImputer()),\n",
       "                                                                  (&#x27;standardscaler&#x27;,\n",
       "                                                                   StandardScaler())]),\n",
       "                                                  [&#x27;1stFlrSF&#x27;, &#x27;2ndFlrSF&#x27;,\n",
       "                                                   &#x27;3SsnPorch&#x27;, &#x27;BsmtFinSF1&#x27;,\n",
       "                                                   &#x27;BsmtFinSF2&#x27;, &#x27;BsmtUnfSF&#x27;,\n",
       "                                                   &#x27;EnclosedPorch&#x27;,\n",
       "                                                   &#x27;GarageArea&#x27;, &#x27;GarageYrBlt&#x27;,\n",
       "                                                   &#x27;GrLivArea&#x27;, &#x27;LotArea&#x27;,\n",
       "                                                   &#x27;LotFrontage&#x27;,\n",
       "                                                   &#x27;LowQualFinSF&#x27;, &#x27;MSSubClass&#x27;...\n",
       "                                                   &#x27;BsmtHalfBath&#x27;, &#x27;Fireplaces&#x27;,\n",
       "                                                   &#x27;FullBath&#x27;, &#x27;GarageCars&#x27;,\n",
       "                                                   &#x27;HalfBath&#x27;, &#x27;KitchenAbvGr&#x27;,\n",
       "                                                   &#x27;OverallCond&#x27;, &#x27;PoolArea&#x27;,\n",
       "                                                   &#x27;YrSold&#x27;])])),\n",
       "                (&#x27;polynomialfeatures&#x27;,\n",
       "                 PolynomialFeatures(include_bias=False, interaction_only=True)),\n",
       "                (&#x27;transformedtargetregressor&#x27;,\n",
       "                 TransformedTargetRegressor(func=&lt;ufunc &#x27;log&#x27;&gt;,\n",
       "                                            inverse_func=&lt;ufunc &#x27;exp&#x27;&gt;,\n",
       "                                            regressor=ElasticNetCV(max_iter=2000,\n",
       "                                                                   n_jobs=4,\n",
       "                                                                   random_state=42)))])</pre><b>In a Jupyter environment, please rerun this cell to show the HTML representation or trust the notebook. <br />On GitHub, the HTML representation is unable to render, please try loading this page with nbviewer.org.</b></div><div class=\"sk-container\" hidden><div class=\"sk-item sk-dashed-wrapped\"><div class=\"sk-label-container\"><div class=\"sk-label sk-toggleable\"><input class=\"sk-toggleable__control sk-hidden--visually\" id=\"sk-estimator-id-1\" type=\"checkbox\" ><label for=\"sk-estimator-id-1\" class=\"sk-toggleable__label sk-toggleable__label-arrow\">Pipeline</label><div class=\"sk-toggleable__content\"><pre>Pipeline(steps=[(&#x27;columntransformer&#x27;,\n",
       "                 ColumnTransformer(transformers=[(&#x27;pipeline-1&#x27;,\n",
       "                                                  Pipeline(steps=[(&#x27;simpleimputer&#x27;,\n",
       "                                                                   SimpleImputer()),\n",
       "                                                                  (&#x27;standardscaler&#x27;,\n",
       "                                                                   StandardScaler())]),\n",
       "                                                  [&#x27;1stFlrSF&#x27;, &#x27;2ndFlrSF&#x27;,\n",
       "                                                   &#x27;3SsnPorch&#x27;, &#x27;BsmtFinSF1&#x27;,\n",
       "                                                   &#x27;BsmtFinSF2&#x27;, &#x27;BsmtUnfSF&#x27;,\n",
       "                                                   &#x27;EnclosedPorch&#x27;,\n",
       "                                                   &#x27;GarageArea&#x27;, &#x27;GarageYrBlt&#x27;,\n",
       "                                                   &#x27;GrLivArea&#x27;, &#x27;LotArea&#x27;,\n",
       "                                                   &#x27;LotFrontage&#x27;,\n",
       "                                                   &#x27;LowQualFinSF&#x27;, &#x27;MSSubClass&#x27;...\n",
       "                                                   &#x27;BsmtHalfBath&#x27;, &#x27;Fireplaces&#x27;,\n",
       "                                                   &#x27;FullBath&#x27;, &#x27;GarageCars&#x27;,\n",
       "                                                   &#x27;HalfBath&#x27;, &#x27;KitchenAbvGr&#x27;,\n",
       "                                                   &#x27;OverallCond&#x27;, &#x27;PoolArea&#x27;,\n",
       "                                                   &#x27;YrSold&#x27;])])),\n",
       "                (&#x27;polynomialfeatures&#x27;,\n",
       "                 PolynomialFeatures(include_bias=False, interaction_only=True)),\n",
       "                (&#x27;transformedtargetregressor&#x27;,\n",
       "                 TransformedTargetRegressor(func=&lt;ufunc &#x27;log&#x27;&gt;,\n",
       "                                            inverse_func=&lt;ufunc &#x27;exp&#x27;&gt;,\n",
       "                                            regressor=ElasticNetCV(max_iter=2000,\n",
       "                                                                   n_jobs=4,\n",
       "                                                                   random_state=42)))])</pre></div></div></div><div class=\"sk-serial\"><div class=\"sk-item sk-dashed-wrapped\"><div class=\"sk-label-container\"><div class=\"sk-label sk-toggleable\"><input class=\"sk-toggleable__control sk-hidden--visually\" id=\"sk-estimator-id-2\" type=\"checkbox\" ><label for=\"sk-estimator-id-2\" class=\"sk-toggleable__label sk-toggleable__label-arrow\">columntransformer: ColumnTransformer</label><div class=\"sk-toggleable__content\"><pre>ColumnTransformer(transformers=[(&#x27;pipeline-1&#x27;,\n",
       "                                 Pipeline(steps=[(&#x27;simpleimputer&#x27;,\n",
       "                                                  SimpleImputer()),\n",
       "                                                 (&#x27;standardscaler&#x27;,\n",
       "                                                  StandardScaler())]),\n",
       "                                 [&#x27;1stFlrSF&#x27;, &#x27;2ndFlrSF&#x27;, &#x27;3SsnPorch&#x27;,\n",
       "                                  &#x27;BsmtFinSF1&#x27;, &#x27;BsmtFinSF2&#x27;, &#x27;BsmtUnfSF&#x27;,\n",
       "                                  &#x27;EnclosedPorch&#x27;, &#x27;GarageArea&#x27;, &#x27;GarageYrBlt&#x27;,\n",
       "                                  &#x27;GrLivArea&#x27;, &#x27;LotArea&#x27;, &#x27;LotFrontage&#x27;,\n",
       "                                  &#x27;LowQualFinSF&#x27;, &#x27;MSSubClass&#x27;, &#x27;MasVnrArea&#x27;,\n",
       "                                  &#x27;MiscVal&#x27;, &#x27;MoSold&#x27;, &#x27;Ope...\n",
       "                                  &#x27;KitchenQual&#x27;, &#x27;LandContour&#x27;, &#x27;LandSlope&#x27;,\n",
       "                                  &#x27;LotConfig&#x27;, ...]),\n",
       "                                (&#x27;pipeline-3&#x27;,\n",
       "                                 Pipeline(steps=[(&#x27;simpleimputer&#x27;,\n",
       "                                                  SimpleImputer(strategy=&#x27;most_frequent&#x27;)),\n",
       "                                                 (&#x27;ordinalencoder&#x27;,\n",
       "                                                  OrdinalEncoder(handle_unknown=&#x27;use_encoded_value&#x27;,\n",
       "                                                                 unknown_value=-1))]),\n",
       "                                 [&#x27;BedroomAbvGr&#x27;, &#x27;BsmtFullBath&#x27;,\n",
       "                                  &#x27;BsmtHalfBath&#x27;, &#x27;Fireplaces&#x27;, &#x27;FullBath&#x27;,\n",
       "                                  &#x27;GarageCars&#x27;, &#x27;HalfBath&#x27;, &#x27;KitchenAbvGr&#x27;,\n",
       "                                  &#x27;OverallCond&#x27;, &#x27;PoolArea&#x27;, &#x27;YrSold&#x27;])])</pre></div></div></div><div class=\"sk-parallel\"><div class=\"sk-parallel-item\"><div class=\"sk-item\"><div class=\"sk-label-container\"><div class=\"sk-label sk-toggleable\"><input class=\"sk-toggleable__control sk-hidden--visually\" id=\"sk-estimator-id-3\" type=\"checkbox\" ><label for=\"sk-estimator-id-3\" class=\"sk-toggleable__label sk-toggleable__label-arrow\">pipeline-1</label><div class=\"sk-toggleable__content\"><pre>[&#x27;1stFlrSF&#x27;, &#x27;2ndFlrSF&#x27;, &#x27;3SsnPorch&#x27;, &#x27;BsmtFinSF1&#x27;, &#x27;BsmtFinSF2&#x27;, &#x27;BsmtUnfSF&#x27;, &#x27;EnclosedPorch&#x27;, &#x27;GarageArea&#x27;, &#x27;GarageYrBlt&#x27;, &#x27;GrLivArea&#x27;, &#x27;LotArea&#x27;, &#x27;LotFrontage&#x27;, &#x27;LowQualFinSF&#x27;, &#x27;MSSubClass&#x27;, &#x27;MasVnrArea&#x27;, &#x27;MiscVal&#x27;, &#x27;MoSold&#x27;, &#x27;OpenPorchSF&#x27;, &#x27;OverallQual&#x27;, &#x27;ScreenPorch&#x27;, &#x27;TotRmsAbvGrd&#x27;, &#x27;TotalBsmtSF&#x27;, &#x27;WoodDeckSF&#x27;, &#x27;YearBuilt&#x27;, &#x27;YearRemodAdd&#x27;]</pre></div></div></div><div class=\"sk-serial\"><div class=\"sk-item\"><div class=\"sk-serial\"><div class=\"sk-item\"><div class=\"sk-estimator sk-toggleable\"><input class=\"sk-toggleable__control sk-hidden--visually\" id=\"sk-estimator-id-4\" type=\"checkbox\" ><label for=\"sk-estimator-id-4\" class=\"sk-toggleable__label sk-toggleable__label-arrow\">SimpleImputer</label><div class=\"sk-toggleable__content\"><pre>SimpleImputer()</pre></div></div></div><div class=\"sk-item\"><div class=\"sk-estimator sk-toggleable\"><input class=\"sk-toggleable__control sk-hidden--visually\" id=\"sk-estimator-id-5\" type=\"checkbox\" ><label for=\"sk-estimator-id-5\" class=\"sk-toggleable__label sk-toggleable__label-arrow\">StandardScaler</label><div class=\"sk-toggleable__content\"><pre>StandardScaler()</pre></div></div></div></div></div></div></div></div><div class=\"sk-parallel-item\"><div class=\"sk-item\"><div class=\"sk-label-container\"><div class=\"sk-label sk-toggleable\"><input class=\"sk-toggleable__control sk-hidden--visually\" id=\"sk-estimator-id-6\" type=\"checkbox\" ><label for=\"sk-estimator-id-6\" class=\"sk-toggleable__label sk-toggleable__label-arrow\">pipeline-2</label><div class=\"sk-toggleable__content\"><pre>[&#x27;Alley&#x27;, &#x27;BldgType&#x27;, &#x27;BsmtCond&#x27;, &#x27;BsmtExposure&#x27;, &#x27;BsmtFinType1&#x27;, &#x27;BsmtFinType2&#x27;, &#x27;BsmtQual&#x27;, &#x27;CentralAir&#x27;, &#x27;Condition1&#x27;, &#x27;Condition2&#x27;, &#x27;Electrical&#x27;, &#x27;ExterCond&#x27;, &#x27;ExterQual&#x27;, &#x27;Exterior1st&#x27;, &#x27;Exterior2nd&#x27;, &#x27;Fence&#x27;, &#x27;FireplaceQu&#x27;, &#x27;Foundation&#x27;, &#x27;Functional&#x27;, &#x27;GarageCond&#x27;, &#x27;GarageFinish&#x27;, &#x27;GarageQual&#x27;, &#x27;GarageType&#x27;, &#x27;Heating&#x27;, &#x27;HeatingQC&#x27;, &#x27;HouseStyle&#x27;, &#x27;KitchenQual&#x27;, &#x27;LandContour&#x27;, &#x27;LandSlope&#x27;, &#x27;LotConfig&#x27;, &#x27;LotShape&#x27;, &#x27;MSZoning&#x27;, &#x27;MasVnrType&#x27;, &#x27;MiscFeature&#x27;, &#x27;Neighborhood&#x27;, &#x27;PavedDrive&#x27;, &#x27;PoolQC&#x27;, &#x27;RoofMatl&#x27;, &#x27;RoofStyle&#x27;, &#x27;SaleCondition&#x27;, &#x27;SaleType&#x27;, &#x27;Street&#x27;, &#x27;Utilities&#x27;]</pre></div></div></div><div class=\"sk-serial\"><div class=\"sk-item\"><div class=\"sk-serial\"><div class=\"sk-item\"><div class=\"sk-estimator sk-toggleable\"><input class=\"sk-toggleable__control sk-hidden--visually\" id=\"sk-estimator-id-7\" type=\"checkbox\" ><label for=\"sk-estimator-id-7\" class=\"sk-toggleable__label sk-toggleable__label-arrow\">SimpleImputer</label><div class=\"sk-toggleable__content\"><pre>SimpleImputer(strategy=&#x27;most_frequent&#x27;)</pre></div></div></div><div class=\"sk-item\"><div class=\"sk-estimator sk-toggleable\"><input class=\"sk-toggleable__control sk-hidden--visually\" id=\"sk-estimator-id-8\" type=\"checkbox\" ><label for=\"sk-estimator-id-8\" class=\"sk-toggleable__label sk-toggleable__label-arrow\">OneHotEncoder</label><div class=\"sk-toggleable__content\"><pre>OneHotEncoder(handle_unknown=&#x27;ignore&#x27;)</pre></div></div></div></div></div></div></div></div><div class=\"sk-parallel-item\"><div class=\"sk-item\"><div class=\"sk-label-container\"><div class=\"sk-label sk-toggleable\"><input class=\"sk-toggleable__control sk-hidden--visually\" id=\"sk-estimator-id-9\" type=\"checkbox\" ><label for=\"sk-estimator-id-9\" class=\"sk-toggleable__label sk-toggleable__label-arrow\">pipeline-3</label><div class=\"sk-toggleable__content\"><pre>[&#x27;BedroomAbvGr&#x27;, &#x27;BsmtFullBath&#x27;, &#x27;BsmtHalfBath&#x27;, &#x27;Fireplaces&#x27;, &#x27;FullBath&#x27;, &#x27;GarageCars&#x27;, &#x27;HalfBath&#x27;, &#x27;KitchenAbvGr&#x27;, &#x27;OverallCond&#x27;, &#x27;PoolArea&#x27;, &#x27;YrSold&#x27;]</pre></div></div></div><div class=\"sk-serial\"><div class=\"sk-item\"><div class=\"sk-serial\"><div class=\"sk-item\"><div class=\"sk-estimator sk-toggleable\"><input class=\"sk-toggleable__control sk-hidden--visually\" id=\"sk-estimator-id-10\" type=\"checkbox\" ><label for=\"sk-estimator-id-10\" class=\"sk-toggleable__label sk-toggleable__label-arrow\">SimpleImputer</label><div class=\"sk-toggleable__content\"><pre>SimpleImputer(strategy=&#x27;most_frequent&#x27;)</pre></div></div></div><div class=\"sk-item\"><div class=\"sk-estimator sk-toggleable\"><input class=\"sk-toggleable__control sk-hidden--visually\" id=\"sk-estimator-id-11\" type=\"checkbox\" ><label for=\"sk-estimator-id-11\" class=\"sk-toggleable__label sk-toggleable__label-arrow\">OrdinalEncoder</label><div class=\"sk-toggleable__content\"><pre>OrdinalEncoder(handle_unknown=&#x27;use_encoded_value&#x27;, unknown_value=-1)</pre></div></div></div></div></div></div></div></div></div></div><div class=\"sk-item\"><div class=\"sk-estimator sk-toggleable\"><input class=\"sk-toggleable__control sk-hidden--visually\" id=\"sk-estimator-id-12\" type=\"checkbox\" ><label for=\"sk-estimator-id-12\" class=\"sk-toggleable__label sk-toggleable__label-arrow\">PolynomialFeatures</label><div class=\"sk-toggleable__content\"><pre>PolynomialFeatures(include_bias=False, interaction_only=True)</pre></div></div></div><div class=\"sk-item sk-dashed-wrapped\"><div class=\"sk-label-container\"><div class=\"sk-label sk-toggleable\"><input class=\"sk-toggleable__control sk-hidden--visually\" id=\"sk-estimator-id-13\" type=\"checkbox\" ><label for=\"sk-estimator-id-13\" class=\"sk-toggleable__label sk-toggleable__label-arrow\">transformedtargetregressor: TransformedTargetRegressor</label><div class=\"sk-toggleable__content\"><pre>TransformedTargetRegressor(func=&lt;ufunc &#x27;log&#x27;&gt;, inverse_func=&lt;ufunc &#x27;exp&#x27;&gt;,\n",
       "                           regressor=ElasticNetCV(max_iter=2000, n_jobs=4,\n",
       "                                                  random_state=42))</pre></div></div></div><div class=\"sk-parallel\"><div class=\"sk-parallel-item\"><div class=\"sk-item\"><div class=\"sk-label-container\"><div class=\"sk-label sk-toggleable\"><input class=\"sk-toggleable__control sk-hidden--visually\" id=\"sk-estimator-id-14\" type=\"checkbox\" ><label for=\"sk-estimator-id-14\" class=\"sk-toggleable__label sk-toggleable__label-arrow\">regressor: ElasticNetCV</label><div class=\"sk-toggleable__content\"><pre>ElasticNetCV(max_iter=2000, n_jobs=4, random_state=42)</pre></div></div></div><div class=\"sk-serial\"><div class=\"sk-item\"><div class=\"sk-estimator sk-toggleable\"><input class=\"sk-toggleable__control sk-hidden--visually\" id=\"sk-estimator-id-15\" type=\"checkbox\" ><label for=\"sk-estimator-id-15\" class=\"sk-toggleable__label sk-toggleable__label-arrow\">ElasticNetCV</label><div class=\"sk-toggleable__content\"><pre>ElasticNetCV(max_iter=2000, n_jobs=4, random_state=42)</pre></div></div></div></div></div></div></div></div></div></div></div></div>"
      ],
      "text/plain": [
       "Pipeline(steps=[('columntransformer',\n",
       "                 ColumnTransformer(transformers=[('pipeline-1',\n",
       "                                                  Pipeline(steps=[('simpleimputer',\n",
       "                                                                   SimpleImputer()),\n",
       "                                                                  ('standardscaler',\n",
       "                                                                   StandardScaler())]),\n",
       "                                                  ['1stFlrSF', '2ndFlrSF',\n",
       "                                                   '3SsnPorch', 'BsmtFinSF1',\n",
       "                                                   'BsmtFinSF2', 'BsmtUnfSF',\n",
       "                                                   'EnclosedPorch',\n",
       "                                                   'GarageArea', 'GarageYrBlt',\n",
       "                                                   'GrLivArea', 'LotArea',\n",
       "                                                   'LotFrontage',\n",
       "                                                   'LowQualFinSF', 'MSSubClass'...\n",
       "                                                   'BsmtHalfBath', 'Fireplaces',\n",
       "                                                   'FullBath', 'GarageCars',\n",
       "                                                   'HalfBath', 'KitchenAbvGr',\n",
       "                                                   'OverallCond', 'PoolArea',\n",
       "                                                   'YrSold'])])),\n",
       "                ('polynomialfeatures',\n",
       "                 PolynomialFeatures(include_bias=False, interaction_only=True)),\n",
       "                ('transformedtargetregressor',\n",
       "                 TransformedTargetRegressor(func=<ufunc 'log'>,\n",
       "                                            inverse_func=<ufunc 'exp'>,\n",
       "                                            regressor=ElasticNetCV(max_iter=2000,\n",
       "                                                                   n_jobs=4,\n",
       "                                                                   random_state=42)))])"
      ]
     },
     "execution_count": 8,
     "metadata": {},
     "output_type": "execute_result"
    }
   ],
   "source": [
    "model.fit(X_train, y_train)"
   ]
  },
  {
   "cell_type": "code",
   "execution_count": 9,
   "id": "6481186f",
   "metadata": {
    "execution": {
     "iopub.execute_input": "2024-03-03T02:16:51.366433Z",
     "iopub.status.busy": "2024-03-03T02:16:51.366028Z",
     "iopub.status.idle": "2024-03-03T02:16:51.545388Z",
     "shell.execute_reply": "2024-03-03T02:16:51.544149Z"
    },
    "papermill": {
     "duration": 0.191586,
     "end_time": "2024-03-03T02:16:51.548457",
     "exception": false,
     "start_time": "2024-03-03T02:16:51.356871",
     "status": "completed"
    },
    "tags": []
   },
   "outputs": [
    {
     "name": "stdout",
     "output_type": "stream",
     "text": [
      "Train MAE = 11563.71\n",
      "Test MAE = 15247.01\n"
     ]
    }
   ],
   "source": [
    "report(model, X_train, y_train, X_val, y_val)"
   ]
  },
  {
   "cell_type": "markdown",
   "id": "82286090",
   "metadata": {
    "papermill": {
     "duration": 0.00751,
     "end_time": "2024-03-03T02:16:51.563856",
     "exception": false,
     "start_time": "2024-03-03T02:16:51.556346",
     "status": "completed"
    },
    "tags": []
   },
   "source": [
    "# Observations\n",
    "* Adding all interactions significantly slows down fitting. ElasticNetCV took about 10 minutes to fit, while LassoCV took about 18 minutes.\n",
    "* ElasticNetCV scores: Train MAE = 11563.71, Test MAE = 15247.01\n",
    "* LASSOCV: Train MAE = 11937.32, Test MAE = 15398.64"
   ]
  },
  {
   "cell_type": "code",
   "execution_count": 10,
   "id": "8a77a8ca",
   "metadata": {
    "execution": {
     "iopub.execute_input": "2024-03-03T02:16:51.581545Z",
     "iopub.status.busy": "2024-03-03T02:16:51.581128Z",
     "iopub.status.idle": "2024-03-03T02:16:52.198110Z",
     "shell.execute_reply": "2024-03-03T02:16:52.197018Z"
    },
    "papermill": {
     "duration": 0.628953,
     "end_time": "2024-03-03T02:16:52.200662",
     "exception": false,
     "start_time": "2024-03-03T02:16:51.571709",
     "status": "completed"
    },
    "tags": []
   },
   "outputs": [
    {
     "data": {
      "image/png": "[encoded data removed]",
      "text/plain": [
       "<Figure size 800x400 with 2 Axes>"
      ]
     },
     "metadata": {},
     "output_type": "display_data"
    }
   ],
   "source": [
    "fig = residual_plots(y_val, model.predict(X_val))"
   ]
  },
  {
   "cell_type": "markdown",
   "id": "68dce444",
   "metadata": {
    "papermill": {
     "duration": 0.00901,
     "end_time": "2024-03-03T02:16:52.219036",
     "exception": false,
     "start_time": "2024-03-03T02:16:52.210026",
     "status": "completed"
    },
    "tags": []
   },
   "source": [
    "# Summary\n",
    "* `ElasticNetCV` was twice as fast using `n_jobs=4` and scored to `LassoCV`.\n",
    "* Best submission score so far."
   ]
  },
  {
   "cell_type": "markdown",
   "id": "350a0ba4",
   "metadata": {
    "papermill": {
     "duration": 0.008881,
     "end_time": "2024-03-03T02:16:52.237090",
     "exception": false,
     "start_time": "2024-03-03T02:16:52.228209",
     "status": "completed"
    },
    "tags": []
   },
   "source": [
    "# Submit"
   ]
  },
  {
   "cell_type": "code",
   "execution_count": 11,
   "id": "ff60e7fb",
   "metadata": {
    "execution": {
     "iopub.execute_input": "2024-03-03T02:16:52.258709Z",
     "iopub.status.busy": "2024-03-03T02:16:52.257955Z",
     "iopub.status.idle": "2024-03-03T02:41:00.965185Z",
     "shell.execute_reply": "2024-03-03T02:41:00.963864Z"
    },
    "papermill": {
     "duration": 1448.730854,
     "end_time": "2024-03-03T02:41:00.977233",
     "exception": false,
     "start_time": "2024-03-03T02:16:52.246379",
     "status": "completed"
    },
    "tags": []
   },
   "outputs": [
    {
     "name": "stdout",
     "output_type": "stream",
     "text": [
      "Full data MAE = 10203.08\n"
     ]
    }
   ],
   "source": [
    "model.fit(X_raw, y)\n",
    "print(f\"Full data MAE = {evaluate(model, X_raw, y):.2f}\")"
   ]
  },
  {
   "cell_type": "markdown",
   "id": "cbb74498",
   "metadata": {
    "papermill": {
     "duration": 0.008877,
     "end_time": "2024-03-03T02:41:00.995822",
     "exception": false,
     "start_time": "2024-03-03T02:41:00.986945",
     "status": "completed"
    },
    "tags": []
   },
   "source": [
    "### ElasticNetCV\n",
    "1. `max_iter=1000` didn't converge. Full data MAE = 10202.47, LB = 14332.78608\n",
    "1.  `max_iter=2000` converged. Full data MAE = 10203.08, LB = 14331.84788\n",
    "\n",
    "### LassoCV\n",
    "* Skipped due to slowness and similar train/test score to ElasticNetCV."
   ]
  },
  {
   "cell_type": "code",
   "execution_count": 12,
   "id": "75ee8561",
   "metadata": {
    "execution": {
     "iopub.execute_input": "2024-03-03T02:41:01.016415Z",
     "iopub.status.busy": "2024-03-03T02:41:01.015962Z",
     "iopub.status.idle": "2024-03-03T02:41:01.182060Z",
     "shell.execute_reply": "2024-03-03T02:41:01.180754Z"
    },
    "papermill": {
     "duration": 0.179993,
     "end_time": "2024-03-03T02:41:01.185173",
     "exception": false,
     "start_time": "2024-03-03T02:41:01.005180",
     "status": "completed"
    },
    "tags": []
   },
   "outputs": [],
   "source": [
    "create_submission(model, data_test)"
   ]
  },
  {
   "cell_type": "code",
   "execution_count": 13,
   "id": "5d531d4e",
   "metadata": {
    "execution": {
     "iopub.execute_input": "2024-03-03T02:41:01.205530Z",
     "iopub.status.busy": "2024-03-03T02:41:01.205110Z",
     "iopub.status.idle": "2024-03-03T02:41:01.211120Z",
     "shell.execute_reply": "2024-03-03T02:41:01.209686Z"
    },
    "papermill": {
     "duration": 0.019308,
     "end_time": "2024-03-03T02:41:01.213745",
     "exception": false,
     "start_time": "2024-03-03T02:41:01.194437",
     "status": "completed"
    },
    "tags": []
   },
   "outputs": [],
   "source": [
    "if False:\n",
    "    import kaggle\n",
    "\n",
    "    result = kaggle.api.competition_submit(\n",
    "        \"submission.csv\",\n",
    "        f\"{regressor} with log transform of target, all interactions\",\n",
    "        \"home-data-for-ml-course\",\n",
    "    )\n",
    "    print(result)"
   ]
  }
 ],
 "metadata": {
  "kaggle": {
   "accelerator": "none",
   "dataSources": [
    {
     "databundleVersionId": 111096,
     "sourceId": 10211,
     "sourceType": "competition"
    },
    {
     "sourceId": 164726577,
     "sourceType": "kernelVersion"
    }
   ],
   "dockerImageVersionId": 30664,
   "isGpuEnabled": false,
   "isInternetEnabled": false,
   "language": "python",
   "sourceType": "notebook"
  },
  "kernelspec": {
   "display_name": "Python 3",
   "language": "python",
   "name": "python3"
  },
  "language_info": {
   "codemirror_mode": {
    "name": "ipython",
    "version": 3
   },
   "file_extension": ".py",
   "mimetype": "text/x-python",
   "name": "python",
   "nbconvert_exporter": "python",
   "pygments_lexer": "ipython3",
   "version": "3.10.13"
  },
  "papermill": {
   "default_parameters": {},
   "duration": 2392.750001,
   "end_time": "2024-03-03T02:41:01.851770",
   "environment_variables": {},
   "exception": null,
   "input_path": "__notebook__.ipynb",
   "output_path": "__notebook__.ipynb",
   "parameters": {},
   "start_time": "2024-03-03T02:01:09.101769",
   "version": "2.5.0"
  }
 },
 "nbformat": 4,
 "nbformat_minor": 5
}
